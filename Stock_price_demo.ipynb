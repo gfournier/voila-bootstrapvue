{
 "cells": [
  {
   "cell_type": "markdown",
   "metadata": {},
   "source": [
    "# Stock pricer viewer app"
   ]
  },
  {
   "cell_type": "markdown",
   "metadata": {},
   "source": [
    "This demo shows a series of ipywidgets bundled in a Voila template, configured with Bootstrap Vue components.\n",
    "\n",
    "To run it, you must installed the following dependencies (not contained with the template).\n",
    "* `ipyhc`: Highcharts Jupyter widgets\n",
    "* `ipybootstrapvue`: Bootstrap Vue components as Jupyter widgets\n",
    "\n",
    "Just install via `pip install <dep>`.\n",
    "\n",
    "Run the \"app\" with Voila:\n",
    "`voila Stock_price_demo.ipynb --template sample-table-graph`\n"
   ]
  },
  {
   "cell_type": "code",
   "execution_count": 29,
   "metadata": {},
   "outputs": [],
   "source": [
    "import ipybootstrapvue as bs\n",
    "import ipyhc as hc"
   ]
  },
  {
   "cell_type": "markdown",
   "metadata": {},
   "source": [
    "## Import some open stock price dataset from OpenML"
   ]
  },
  {
   "cell_type": "code",
   "execution_count": 33,
   "metadata": {},
   "outputs": [
    {
     "data": {
      "text/html": [
       "<div>\n",
       "<style scoped>\n",
       "    .dataframe tbody tr th:only-of-type {\n",
       "        vertical-align: middle;\n",
       "    }\n",
       "\n",
       "    .dataframe tbody tr th {\n",
       "        vertical-align: top;\n",
       "    }\n",
       "\n",
       "    .dataframe thead th {\n",
       "        text-align: right;\n",
       "    }\n",
       "</style>\n",
       "<table border=\"1\" class=\"dataframe\">\n",
       "  <thead>\n",
       "    <tr style=\"text-align: right;\">\n",
       "      <th></th>\n",
       "      <th>company1</th>\n",
       "      <th>company2</th>\n",
       "      <th>company3</th>\n",
       "      <th>company4</th>\n",
       "      <th>company5</th>\n",
       "      <th>company6</th>\n",
       "      <th>company7</th>\n",
       "      <th>company8</th>\n",
       "      <th>company9</th>\n",
       "      <th>company10</th>\n",
       "    </tr>\n",
       "  </thead>\n",
       "  <tbody>\n",
       "    <tr>\n",
       "      <th>0</th>\n",
       "      <td>17.219</td>\n",
       "      <td>50.500</td>\n",
       "      <td>18.750</td>\n",
       "      <td>43.000</td>\n",
       "      <td>60.875</td>\n",
       "      <td>26.375</td>\n",
       "      <td>67.750</td>\n",
       "      <td>19.000</td>\n",
       "      <td>48.750</td>\n",
       "      <td>34.875</td>\n",
       "    </tr>\n",
       "    <tr>\n",
       "      <th>1</th>\n",
       "      <td>17.891</td>\n",
       "      <td>51.375</td>\n",
       "      <td>19.625</td>\n",
       "      <td>44.000</td>\n",
       "      <td>62.000</td>\n",
       "      <td>26.125</td>\n",
       "      <td>68.125</td>\n",
       "      <td>19.125</td>\n",
       "      <td>48.750</td>\n",
       "      <td>35.625</td>\n",
       "    </tr>\n",
       "    <tr>\n",
       "      <th>2</th>\n",
       "      <td>18.438</td>\n",
       "      <td>50.875</td>\n",
       "      <td>19.875</td>\n",
       "      <td>43.875</td>\n",
       "      <td>61.875</td>\n",
       "      <td>27.250</td>\n",
       "      <td>68.500</td>\n",
       "      <td>18.250</td>\n",
       "      <td>49.000</td>\n",
       "      <td>36.375</td>\n",
       "    </tr>\n",
       "    <tr>\n",
       "      <th>3</th>\n",
       "      <td>18.672</td>\n",
       "      <td>51.500</td>\n",
       "      <td>20.000</td>\n",
       "      <td>44.000</td>\n",
       "      <td>62.625</td>\n",
       "      <td>27.875</td>\n",
       "      <td>69.375</td>\n",
       "      <td>18.375</td>\n",
       "      <td>49.625</td>\n",
       "      <td>36.250</td>\n",
       "    </tr>\n",
       "    <tr>\n",
       "      <th>4</th>\n",
       "      <td>17.438</td>\n",
       "      <td>49.000</td>\n",
       "      <td>20.000</td>\n",
       "      <td>41.375</td>\n",
       "      <td>59.750</td>\n",
       "      <td>25.875</td>\n",
       "      <td>63.250</td>\n",
       "      <td>16.500</td>\n",
       "      <td>47.500</td>\n",
       "      <td>35.500</td>\n",
       "    </tr>\n",
       "  </tbody>\n",
       "</table>\n",
       "</div>"
      ],
      "text/plain": [
       "   company1  company2  company3  company4  company5  company6  company7  \\\n",
       "0    17.219    50.500    18.750    43.000    60.875    26.375    67.750   \n",
       "1    17.891    51.375    19.625    44.000    62.000    26.125    68.125   \n",
       "2    18.438    50.875    19.875    43.875    61.875    27.250    68.500   \n",
       "3    18.672    51.500    20.000    44.000    62.625    27.875    69.375   \n",
       "4    17.438    49.000    20.000    41.375    59.750    25.875    63.250   \n",
       "\n",
       "   company8  company9  company10  \n",
       "0    19.000    48.750     34.875  \n",
       "1    19.125    48.750     35.625  \n",
       "2    18.250    49.000     36.375  \n",
       "3    18.375    49.625     36.250  \n",
       "4    16.500    47.500     35.500  "
      ]
     },
     "execution_count": 33,
     "metadata": {},
     "output_type": "execute_result"
    }
   ],
   "source": [
    "import pandas as pd\n",
    "import io\n",
    "import requests\n",
    "csv = requests.get('https://www.openml.org/data/get_csv/3660/dataset_2209_stock.arff').content.decode()\n",
    "df = pd.read_csv(io.StringIO(csv))\n",
    "df.head()"
   ]
  },
  {
   "cell_type": "code",
   "execution_count": 34,
   "metadata": {},
   "outputs": [
    {
     "data": {
      "text/html": [
       "<div>\n",
       "<style scoped>\n",
       "    .dataframe tbody tr th:only-of-type {\n",
       "        vertical-align: middle;\n",
       "    }\n",
       "\n",
       "    .dataframe tbody tr th {\n",
       "        vertical-align: top;\n",
       "    }\n",
       "\n",
       "    .dataframe thead th {\n",
       "        text-align: right;\n",
       "    }\n",
       "</style>\n",
       "<table border=\"1\" class=\"dataframe\">\n",
       "  <thead>\n",
       "    <tr style=\"text-align: right;\">\n",
       "      <th></th>\n",
       "      <th>company1</th>\n",
       "      <th>company2</th>\n",
       "      <th>company3</th>\n",
       "      <th>company4</th>\n",
       "      <th>company5</th>\n",
       "      <th>company6</th>\n",
       "      <th>company7</th>\n",
       "      <th>company8</th>\n",
       "      <th>company9</th>\n",
       "      <th>company10</th>\n",
       "      <th>date</th>\n",
       "    </tr>\n",
       "  </thead>\n",
       "  <tbody>\n",
       "    <tr>\n",
       "      <th>0</th>\n",
       "      <td>17.219</td>\n",
       "      <td>50.500</td>\n",
       "      <td>18.750</td>\n",
       "      <td>43.000</td>\n",
       "      <td>60.875</td>\n",
       "      <td>26.375</td>\n",
       "      <td>67.750</td>\n",
       "      <td>19.000</td>\n",
       "      <td>48.750</td>\n",
       "      <td>34.875</td>\n",
       "      <td>1988-01-01</td>\n",
       "    </tr>\n",
       "    <tr>\n",
       "      <th>1</th>\n",
       "      <td>17.891</td>\n",
       "      <td>51.375</td>\n",
       "      <td>19.625</td>\n",
       "      <td>44.000</td>\n",
       "      <td>62.000</td>\n",
       "      <td>26.125</td>\n",
       "      <td>68.125</td>\n",
       "      <td>19.125</td>\n",
       "      <td>48.750</td>\n",
       "      <td>35.625</td>\n",
       "      <td>1988-01-02</td>\n",
       "    </tr>\n",
       "    <tr>\n",
       "      <th>2</th>\n",
       "      <td>18.438</td>\n",
       "      <td>50.875</td>\n",
       "      <td>19.875</td>\n",
       "      <td>43.875</td>\n",
       "      <td>61.875</td>\n",
       "      <td>27.250</td>\n",
       "      <td>68.500</td>\n",
       "      <td>18.250</td>\n",
       "      <td>49.000</td>\n",
       "      <td>36.375</td>\n",
       "      <td>1988-01-03</td>\n",
       "    </tr>\n",
       "    <tr>\n",
       "      <th>3</th>\n",
       "      <td>18.672</td>\n",
       "      <td>51.500</td>\n",
       "      <td>20.000</td>\n",
       "      <td>44.000</td>\n",
       "      <td>62.625</td>\n",
       "      <td>27.875</td>\n",
       "      <td>69.375</td>\n",
       "      <td>18.375</td>\n",
       "      <td>49.625</td>\n",
       "      <td>36.250</td>\n",
       "      <td>1988-01-04</td>\n",
       "    </tr>\n",
       "    <tr>\n",
       "      <th>4</th>\n",
       "      <td>17.438</td>\n",
       "      <td>49.000</td>\n",
       "      <td>20.000</td>\n",
       "      <td>41.375</td>\n",
       "      <td>59.750</td>\n",
       "      <td>25.875</td>\n",
       "      <td>63.250</td>\n",
       "      <td>16.500</td>\n",
       "      <td>47.500</td>\n",
       "      <td>35.500</td>\n",
       "      <td>1988-01-05</td>\n",
       "    </tr>\n",
       "  </tbody>\n",
       "</table>\n",
       "</div>"
      ],
      "text/plain": [
       "   company1  company2  company3  company4  company5  company6  company7  \\\n",
       "0    17.219    50.500    18.750    43.000    60.875    26.375    67.750   \n",
       "1    17.891    51.375    19.625    44.000    62.000    26.125    68.125   \n",
       "2    18.438    50.875    19.875    43.875    61.875    27.250    68.500   \n",
       "3    18.672    51.500    20.000    44.000    62.625    27.875    69.375   \n",
       "4    17.438    49.000    20.000    41.375    59.750    25.875    63.250   \n",
       "\n",
       "   company8  company9  company10        date  \n",
       "0    19.000    48.750     34.875  1988-01-01  \n",
       "1    19.125    48.750     35.625  1988-01-02  \n",
       "2    18.250    49.000     36.375  1988-01-03  \n",
       "3    18.375    49.625     36.250  1988-01-04  \n",
       "4    16.500    47.500     35.500  1988-01-05  "
      ]
     },
     "execution_count": 34,
     "metadata": {},
     "output_type": "execute_result"
    }
   ],
   "source": [
    "import datetime\n",
    "df['date'] = df.index.map(lambda x: datetime.date(1988, 1, 1) + datetime.timedelta(days=x))\n",
    "df.head()"
   ]
  },
  {
   "cell_type": "markdown",
   "metadata": {},
   "source": [
    "## Configure a plot"
   ]
  },
  {
   "cell_type": "code",
   "execution_count": 35,
   "metadata": {},
   "outputs": [],
   "source": [
    "import numpy as np"
   ]
  },
  {
   "cell_type": "code",
   "execution_count": 36,
   "metadata": {},
   "outputs": [],
   "source": [
    "def make_hc_plot(column):\n",
    "    data = [{\n",
    "        'name': column,\n",
    "        'data': df[['date', column]].values.tolist()\n",
    "    }]\n",
    "    return hc.Chart(data=data, options={'title':{'text': f'Stock value for {column}'}})"
   ]
  },
  {
   "cell_type": "code",
   "execution_count": 38,
   "metadata": {},
   "outputs": [],
   "source": [
    "# Uncomment to test plot\n",
    "# make_hc_plot('company1')"
   ]
  },
  {
   "cell_type": "code",
   "execution_count": 39,
   "metadata": {},
   "outputs": [
    {
     "data": {
      "application/vnd.jupyter.widget-view+json": {
       "model_id": "9a2ddf626a664bff85a98a3619985fca",
       "version_major": 2,
       "version_minor": 0
      },
      "text/plain": [
       "Container(fluid=True)"
      ]
     },
     "metadata": {},
     "output_type": "display_data"
    }
   ],
   "source": [
    "graph = bs.Container(_metadata={'mount_id': 'graph'},\n",
    "                     fluid=True,\n",
    "                     children=[])\n",
    "graph"
   ]
  },
  {
   "cell_type": "markdown",
   "metadata": {},
   "source": [
    "## Configure a table display "
   ]
  },
  {
   "cell_type": "code",
   "execution_count": 40,
   "metadata": {},
   "outputs": [
    {
     "data": {
      "application/vnd.jupyter.widget-view+json": {
       "model_id": "4032d087183d4ec5a531cd236e70f001",
       "version_major": 2,
       "version_minor": 0
      },
      "text/plain": [
       "Table(hover=True, items=[], small=True, striped=True)"
      ]
     },
     "metadata": {},
     "output_type": "display_data"
    }
   ],
   "source": [
    "table = bs.Table(_metadata={'mount_id': 'table'},\n",
    "                 items=[],\n",
    "                 striped=True,\n",
    "                 hover=True,\n",
    "                 small=True)\n",
    "table"
   ]
  },
  {
   "cell_type": "markdown",
   "metadata": {},
   "source": [
    "## Build the form for choosing the stock to display"
   ]
  },
  {
   "cell_type": "code",
   "execution_count": 41,
   "metadata": {},
   "outputs": [
    {
     "data": {
      "application/vnd.jupyter.widget-view+json": {
       "model_id": "c9f012d1e7c5451899a1f79aef2bfb58",
       "version_major": 2,
       "version_minor": 0
      },
      "text/plain": [
       "FormSelect(options=[{'value': 'company1', 'text': 'company1'}, {'value': 'company2', 'text': 'company2'}, {'va…"
      ]
     },
     "metadata": {},
     "output_type": "display_data"
    }
   ],
   "source": [
    "selector = bs.FormSelect(_metadata={'mount_id': 'selector'},\n",
    "                         v_model=None,\n",
    "                         options=[{'value': x, 'text': x} for x in df.columns if x.startswith('company')])\n",
    "\n",
    "selector"
   ]
  },
  {
   "cell_type": "code",
   "execution_count": 43,
   "metadata": {},
   "outputs": [
    {
     "data": {
      "application/vnd.jupyter.widget-view+json": {
       "model_id": "d5eadc05f05140789e540cdb47b1173d",
       "version_major": 2,
       "version_minor": 0
      },
      "text/plain": [
       "Btn(children=['Refresh'])"
      ]
     },
     "metadata": {},
     "output_type": "display_data"
    }
   ],
   "source": [
    "def on_btn_click(widget, event, data):\n",
    "    # v_model attributes of widgets contain the current component state\n",
    "    company = selector.v_model\n",
    "    badge.children = [company]\n",
    "    graph.children = [make_hc_plot(company)]\n",
    "    df_extract = df[['date', company]].head(10).copy()\n",
    "    df_extract['date'] = df_extract['date'].apply(str)\n",
    "    table.items = df_extract.to_dict(orient='records')\n",
    "\n",
    "btn = bs.Btn(children=[\"Refresh\"])\n",
    "btn.on_event('click', on_btn_click)\n",
    "btn"
   ]
  },
  {
   "cell_type": "code",
   "execution_count": 44,
   "metadata": {},
   "outputs": [
    {
     "data": {
      "application/vnd.jupyter.widget-view+json": {
       "model_id": "453ce6fa65ea4ae3a4680886b69ae1b3",
       "version_major": 2,
       "version_minor": 0
      },
      "text/plain": [
       "Container(children=[Row(children=[Col(children=['Choose company'])], class_='m-4'), Row(children=[Col(children…"
      ]
     },
     "metadata": {},
     "output_type": "display_data"
    }
   ],
   "source": [
    "badge = bs.Badge(children=[\"unknown\"])\n",
    "\n",
    "comp_title = bs.Container(_metadata={'mount_id': 'form'}, \n",
    "                          children=[\n",
    "                              bs.Row(children=[bs.Col(children=['Choose company'])], class_=\"m-4\"),\n",
    "                              bs.Row(children=[bs.Col(children=[selector])], class_=\"m-4\"),\n",
    "                              bs.Row(children=[bs.Col(children=[btn])], class_=\"m-4\"),\n",
    "                              bs.Row(children=[bs.Col(children=['Displaying result for ', badge])], class_=\"m-4\")\n",
    "                          ])\n",
    "comp_title"
   ]
  },
  {
   "cell_type": "code",
   "execution_count": null,
   "metadata": {},
   "outputs": [],
   "source": []
  }
 ],
 "metadata": {
  "kernelspec": {
   "display_name": "Python (ipydash)",
   "language": "python",
   "name": "ipydash"
  },
  "language_info": {
   "codemirror_mode": {
    "name": "ipython",
    "version": 3
   },
   "file_extension": ".py",
   "mimetype": "text/x-python",
   "name": "python",
   "nbconvert_exporter": "python",
   "pygments_lexer": "ipython3",
   "version": "3.6.8"
  }
 },
 "nbformat": 4,
 "nbformat_minor": 2
}
